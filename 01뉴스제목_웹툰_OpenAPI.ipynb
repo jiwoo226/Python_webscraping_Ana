{
 "cells": [
  {
   "cell_type": "markdown",
   "id": "eb0bfa44",
   "metadata": {},
   "source": [
    "## 1. 뉴스제목 가져오기\n",
    "* user-agent 요청헤더를 반드시 설정해야 한다."
   ]
  },
  {
   "cell_type": "code",
   "execution_count": 1,
   "id": "f0d27781",
   "metadata": {},
   "outputs": [
    {
     "name": "stdout",
     "output_type": "stream",
     "text": [
      "Name: requests\n",
      "Version: 2.32.3\n",
      "Summary: Python HTTP for Humans.\n",
      "Home-page: https://requests.readthedocs.io\n",
      "Author: Kenneth Reitz\n",
      "Author-email: me@kennethreitz.org\n",
      "License: Apache-2.0\n",
      "Location: c:\\Users\\user\\anaconda3\\Lib\\site-packages\n",
      "Requires: certifi, charset-normalizer, idna, urllib3\n",
      "Required-by: anaconda-catalogs, anaconda-client, anaconda-cloud-auth, anaconda-project, conda, conda-build, conda-repo-cli, conda_package_streaming, cookiecutter, datashader, jupyterlab_server, panel, requests-file, requests-toolbelt, Sphinx, streamlit, tldextract\n",
      "Note: you may need to restart the kernel to use updated packages.\n"
     ]
    }
   ],
   "source": [
    "# requests 라이브러리 설치여부 확인\n",
    "%pip show requests"
   ]
  },
  {
   "cell_type": "code",
   "execution_count": 2,
   "id": "f7798ea8",
   "metadata": {},
   "outputs": [
    {
     "name": "stdout",
     "output_type": "stream",
     "text": [
      "Name: beautifulsoup4\n",
      "Version: 4.12.3\n",
      "Summary: Screen-scraping library\n",
      "Home-page: https://www.crummy.com/software/BeautifulSoup/bs4/\n",
      "Author: \n",
      "Author-email: Leonard Richardson <leonardr@segfault.org>\n",
      "License: MIT License\n",
      "Location: c:\\Users\\user\\anaconda3\\Lib\\site-packages\n",
      "Requires: soupsieve\n",
      "Required-by: conda-build, nbconvert\n",
      "Note: you may need to restart the kernel to use updated packages.\n"
     ]
    }
   ],
   "source": [
    "# beautifulsoup4 라이브러리 설치여부 확인\n",
    "%pip show beautifulsoup4"
   ]
  },
  {
   "cell_type": "code",
   "execution_count": 4,
   "id": "bf80a429",
   "metadata": {},
   "outputs": [],
   "source": [
    "# reqeusts, bs4 import\n",
    "import requests\n",
    "import bs4\n",
    "# BeautifulSoup 클래스 import\n",
    "from bs4 import BeautifulSoup"
   ]
  },
  {
   "cell_type": "code",
   "execution_count": 5,
   "id": "9788d6ac",
   "metadata": {},
   "outputs": [
    {
     "name": "stdout",
     "output_type": "stream",
     "text": [
      "requests 버전 2.32.3\n",
      "beautifulsoup4 버전 4.12.3\n"
     ]
    }
   ],
   "source": [
    "# requests, bs4 버전 확인하기\n",
    "print(f'requests 버전 {requests.__version__}')\n",
    "print(f'beautifulsoup4 버전 {bs4.__version__}')"
   ]
  },
  {
   "cell_type": "markdown",
   "id": "ccb91def-cde3-4aeb-b0e5-2e7233500333",
   "metadata": {},
   "source": [
    "### 1. 뉴스 제목 추출하기"
   ]
  },
  {
   "cell_type": "code",
   "execution_count": null,
   "id": "94c12fd6",
   "metadata": {},
   "outputs": [
    {
     "name": "stdout",
     "output_type": "stream",
     "text": [
      "https://news.naver.com/section/105\n",
      "<Response [200]>\n",
      "<class 'requests.models.Response'>\n",
      "200 True\n",
      "88\n",
      "<class 'bs4.element.ResultSet'>\n",
      "https://n.news.naver.com/mnews/article/016/0002458464 “원자력 종주국도 인정”…韓 차세대 연구로, 美 수출 길 뚫었다\n",
      "https://n.news.naver.com/mnews/article/comment/016/0002458464 \n",
      "https://n.news.naver.com/mnews/article/009/0005478033 넥슨, 메이플스토리 22주년 기념해 아이템과 능력치 버프 주는 ‘메이플 대학교’ 이벤트\n",
      "https://n.news.naver.com/mnews/article/comment/009/0005478033 \n",
      "https://n.news.naver.com/mnews/article/366/0001070167 “AGI 시대 코앞에”… ‘o3’ 공개한 오픈AI, GPT‑5 출시 초읽기\n",
      "https://n.news.naver.com/mnews/article/comment/366/0001070167 \n",
      "https://n.news.naver.com/mnews/article/001/0015335977 카카오 '접근성 서포터즈' 2기 출범…\"실질적 변화 노력\"\n",
      "https://n.news.naver.com/mnews/article/comment/001/0015335977 \n",
      "https://n.news.naver.com/mnews/article/029/0002948629 \"올해 1분기 스마트폰 출하량 증가...삼성이 1위\"\n",
      "https://n.news.naver.com/mnews/article/comment/029/0002948629 \n",
      "https://n.news.naver.com/mnews/article/015/0005120525 민주당 황정아, AI 기본법 규제 3년 유예 법안 발의\n",
      "https://n.news.naver.com/mnews/article/comment/015/0005120525 \n",
      "https://n.news.naver.com/mnews/article/469/0000860062 아이온큐 만난 SKT \"양자컴퓨터까지 사업 확장할 기회\"\n",
      "https://n.news.naver.com/mnews/article/comment/469/0000860062 \n",
      "https://n.news.naver.com/mnews/article/056/0011933631 조선 왕실 병풍·복식 등 국가유산 4건 복제 완성\n",
      "https://n.news.naver.com/mnews/article/comment/056/0011933631 \n",
      "https://n.news.naver.com/mnews/article/092/0002371057 차기 삼성 원UI8 업데이트, 신기능은 무엇\n",
      "https://n.news.naver.com/mnews/article/comment/092/0002371057 \n",
      "https://n.news.naver.com/mnews/article/366/0001070170 의대 증원 무산돼도 의료계는 투쟁…“20일 궐기대회 예정대로”\n",
      "https://n.news.naver.com/mnews/article/comment/366/0001070170 \n",
      "https://n.news.naver.com/mnews/article/011/0004475278 카카오모빌리티 CFO \"카카오, 경영권 매각 의사 없어\"\n",
      "https://n.news.naver.com/mnews/article/comment/011/0004475278 \n",
      "https://n.news.naver.com/mnews/article/025/0003434818 “웨어러블 로봇, 고령화ㆍ저출산 시대의 파트너 겸 보조자”\n",
      "https://n.news.naver.com/mnews/article/comment/025/0003434818 \n",
      "https://n.news.naver.com/mnews/article/092/0002371051 두산 데자뷔?...금감원, 한화에어로 유증에 또 정정 요구\n",
      "https://n.news.naver.com/mnews/article/comment/092/0002371051 \n",
      "https://n.news.naver.com/mnews/article/018/0005990198 카카오, 모빌리티 매각 부인에도…사모펀드 엑시트에 노조 반발\n",
      "https://n.news.naver.com/mnews/article/comment/018/0005990198 \n",
      "https://n.news.naver.com/mnews/article/014/0005337521 \"진격의 갤럭시 S25\"... 삼성, 1분기에도 글로벌 스마트폰 시장 1위\n",
      "https://n.news.naver.com/mnews/article/comment/014/0005337521 \n",
      "https://n.news.naver.com/mnews/article/001/0015336972 한미반도체, 하이닉스와 갈등설에 주가 5%↑…\"채널 다변화 기대\"\n",
      "https://n.news.naver.com/mnews/article/comment/001/0015336972 \n",
      "https://n.news.naver.com/mnews/article/366/0001070162 “최대 6배 저렴” GPT-4.1… AI 가격 경쟁 뛰어든 오픈AI\n",
      "https://n.news.naver.com/mnews/article/comment/366/0001070162 \n",
      "https://n.news.naver.com/mnews/article/421/0008199524 매각설 진화 나선 카카오모빌 경영진…\"재무 투자자 교체 검토만\"\n",
      "https://n.news.naver.com/mnews/article/comment/421/0008199524 \n",
      "https://n.news.naver.com/mnews/article/020/0003629091 [월간자동차] 25년 3월, 신차 등록 증가세…기아 쏘렌토 5개월 연속 판매 1위\n",
      "https://n.news.naver.com/mnews/article/comment/020/0003629091 \n",
      "https://n.news.naver.com/mnews/article/003/0013190429 '카잔·인조이' 파급효과?…그래픽카드 구매 급증\n",
      "https://n.news.naver.com/mnews/article/comment/003/0013190429 \n",
      "https://n.news.naver.com/mnews/article/138/0002194853 '中 합작 무산' 잇따른 韓 전구체…독자 생산 라인 중요성 'UP' [소부장박대리]\n",
      "https://n.news.naver.com/mnews/article/comment/138/0002194853 \n",
      "https://n.news.naver.com/mnews/article/092/0002371047 \"이젠 CPU로도 AI 돌린다\"…마이크로소프트, 초경량 AI 모델 '비트넷' 공개\n",
      "https://n.news.naver.com/mnews/article/comment/092/0002371047 \n",
      "https://n.news.naver.com/mnews/article/092/0002371046 美·中 AI 격돌, 기술 격차 사라진다…한국은 '뒷걸음'\n",
      "https://n.news.naver.com/mnews/article/comment/092/0002371046 \n",
      "https://n.news.naver.com/mnews/article/031/0000925392 \"2020~2027년 세계 디스플레이 장비 투자 규모 109조원\"\n",
      "https://n.news.naver.com/mnews/article/comment/031/0000925392 \n",
      "https://n.news.naver.com/mnews/article/031/0000925391 \"오만을 경계해야\"…30년 게임 전문가의 경영 조언\n",
      "https://n.news.naver.com/mnews/article/comment/031/0000925391 \n",
      "https://n.news.naver.com/mnews/article/006/0000129548 아이브 장원영, BTS 뷔·정국 괴롭힌 제2의 '탈덕수용소' 막으려면\n",
      "https://n.news.naver.com/mnews/article/comment/006/0000129548 \n",
      "https://n.news.naver.com/mnews/article/138/0002194852 [IT클로즈업]‘미키17’로 재점화된 영화계 홀드백 문제...레거시의 단순 몽니일까?\n",
      "https://n.news.naver.com/mnews/article/comment/138/0002194852 \n",
      "https://n.news.naver.com/mnews/article/001/0015336797 '출하 1위 삼성, 판매 1위 애플?'…관세 탓 스마트폰 시장 혼전\n",
      "https://n.news.naver.com/mnews/article/comment/001/0015336797 \n",
      "https://n.news.naver.com/mnews/article/138/0002194851 엔비디아 흔든 H20 규제…트럼프, 중간선거 앞두고 '딜레마' [소부장반차장]\n",
      "https://n.news.naver.com/mnews/article/comment/138/0002194851 \n",
      "https://n.news.naver.com/mnews/article/009/0005478035 “이미지로 생각한다”···오픈AI, 그림에 강한 추론형 새모델 o3 출시\n",
      "https://n.news.naver.com/mnews/article/comment/009/0005478035 \n",
      "https://n.news.naver.com/mnews/article/092/0002371044 '1% 싸움' 삼성 갤럭시 vs 애플 아이폰 경쟁 격화\n",
      "https://n.news.naver.com/mnews/article/comment/092/0002371044 \n",
      "https://n.news.naver.com/mnews/article/009/0005478018 [단독] 카카오엔터 이어 모빌리티도 매각설 부인\n",
      "https://n.news.naver.com/mnews/article/comment/009/0005478018 \n",
      "https://n.news.naver.com/mnews/article/092/0002371042 반값한우·올리브영보다 싼 화장품…이마트 '푸드마켓' 고덕점 가보니\n",
      "https://n.news.naver.com/mnews/article/comment/092/0002371042 \n",
      "https://n.news.naver.com/mnews/article/015/0005120532 \"제2의 홈플러스 될라\" 우려…'카카오택시'에 무슨 일이\n",
      "https://n.news.naver.com/mnews/article/comment/015/0005120532 \n",
      "https://n.news.naver.com/mnews/article/421/0008199266 \"韓 연구로 기술로 美 방사성 의료사업…글로벌 시장 선도 계기\"\n",
      "https://n.news.naver.com/mnews/article/comment/421/0008199266 \n",
      "https://n.news.naver.com/mnews/article/018/0005990143 티움바이오, 새 R&D 전략 ‘스마트 바이오로직스’ 소개\n",
      "https://n.news.naver.com/mnews/article/comment/018/0005990143 \n",
      "https://n.news.naver.com/mnews/article/138/0002194849 OLED 시대에도 투자 쏠림은 '중국'…장비지출 83% 점유 [소부장디과장]\n",
      "https://n.news.naver.com/mnews/article/comment/138/0002194849 \n",
      "https://n.news.naver.com/mnews/article/138/0002194848 [네카오는 지금] \"AI 성과? 지금은 투자의 시간\"\n",
      "https://n.news.naver.com/mnews/article/comment/138/0002194848 \n",
      "https://n.news.naver.com/mnews/article/138/0002194847 거세지는 사이버공격…구글클라우드 “AI? 보안의 슈퍼파워”\n",
      "https://n.news.naver.com/mnews/article/comment/138/0002194847 \n",
      "https://n.news.naver.com/mnews/article/366/0001070130 [줄기세포 한·일전]① 日 줄기세포 20년 투자, 결실 임박했나\n",
      "https://n.news.naver.com/mnews/article/comment/366/0001070130 \n",
      "https://n.news.naver.com/mnews/article/030/0003304447 AI 반도체 독립 청신호…퓨리오사AI, LG 엑사원 공급 임박\n",
      "https://n.news.naver.com/mnews/article/comment/030/0003304447 \n",
      "https://n.news.naver.com/mnews/article/138/0002194845 [취재수첩] 3600만원 ‘면죄부’ 논란이 던진 질문들\n",
      "https://n.news.naver.com/mnews/article/comment/138/0002194845 \n",
      "https://n.news.naver.com/mnews/article/032/0003363955 ‘선두 굳히기’ 나선 오픈AI···이번엔 그림 보고 생각하는 AI 모델 출시\n",
      "https://n.news.naver.com/mnews/article/comment/032/0003363955 \n",
      "https://n.news.naver.com/mnews/article/001/0015336542 UNIST \"게임기술 접목해 핵융합 시뮬레이션 속도 15배 향상\"\n",
      "https://n.news.naver.com/mnews/article/comment/001/0015336542 \n"
     ]
    }
   ],
   "source": [
    "# IT/과학 뉴스 \n",
    "req_param = {\n",
    "    'sid': 105\n",
    "}\n",
    "# \n",
    "url = 'https://news.naver.com/section/{sid}'.format(**req_param)\n",
    "print(url)\n",
    "\n",
    "#url2 = 'https://news.naver.com/section/105'\n",
    "\n",
    "# 요청 헤더 설정 : 브라우저 정보(사람처럼 보이게 하려고 설정하는 것)\n",
    "req_header = {\n",
    "    'user-agent' : 'Mozilla/5.0 (Windows NT 10.0; Win64; x64) AppleWebKit/537.36 (KHTML, like Gecko) Chrome/135.0.0.0 Safari/537.36'\n",
    "}\n",
    "\n",
    "# requests 의 get() 함수 호출하기 \n",
    "res = requests.get(url, headers=req_header)\n",
    "print(res)\n",
    "print(type(res))\n",
    "print(res.status_code, res.ok)\n",
    "\n",
    "# 응답(response)이 OK 이면\n",
    "if res.ok:\n",
    "    #응답 (response)에서  text 추출 - source 보기\n",
    "    html = res.text\n",
    "    #print(html)\n",
    "    # BeautifulSoup 객체 생성 \n",
    "    soup = BeautifulSoup(html,'html.parser')\n",
    "    #print(soup)\n",
    "    # CSS 선택자\n",
    "    #<div class ='sa_text'><a></a></div>\n",
    "    print(len(soup.select(\"div.sa_text a[href*='mnews/article']\")))\n",
    "    # print(soup.select(\"div.sa_text a[href*='mnews/article']\"))\n",
    "    a_tag_list = soup.select(\"div.sa_text a[href*='mnews/article']\")\n",
    "    print(type(a_tag_list)) #ResultSet\n",
    "    #print(a_tag_list) #[<a href=\"http://\">뉴스제목</a>,<a></a>]\n",
    "    for a_tag in a_tag_list:\n",
    "        #print(type(a_tag))\n",
    "        title = a_tag.text.strip() #strip은 공백을 제거(함수라서 ()<-- 필요요), text는 뉴스제목을 갖고옴\n",
    "        #href의 속성의 값을 가져오기\n",
    "        link = a_tag['href']\n",
    "        print(link, title)\n",
    "\n",
    "    # <a> 태그 리스트 순회하기    \n",
    "else:\n",
    "# 응답(response)이 Error 이면 status code 출력    \n",
    "    print(f'에러코드는 = {res.status_code}')\n"
   ]
  },
  {
   "cell_type": "markdown",
   "id": "45640860-a449-4285-90d7-5f300292b461",
   "metadata": {},
   "source": [
    "### 1.1 뉴스제목 추출하는 함수 선언하기"
   ]
  },
  {
   "cell_type": "code",
   "execution_count": null,
   "id": "9f2e4ef8",
   "metadata": {},
   "outputs": [],
   "source": [
    "import requests\n",
    "from bs4 import BeautifulSoup\n",
    "\n",
    "section_dict = {100:'정치',101:'경제',102:'사회',103:'생활/문화',104:'세계',105:'IT/과학'}\n",
    "\n",
    "def print_news(sid, section):  #print_new(103,'생활/문화') \n",
    "    req_param = {\n",
    "        'sid': 105\n",
    "    }\n",
    "    # \n",
    "    url = 'https://news.naver.com/section/{sid}'.format(**req_param)\n",
    "    print(url)"
   ]
  },
  {
   "cell_type": "code",
   "execution_count": 28,
   "id": "858952c6",
   "metadata": {},
   "outputs": [
    {
     "name": "stdout",
     "output_type": "stream",
     "text": [
      "======> https://news.naver.com/section/103 생활/문화 뉴스 <======\n",
      "40\n",
      "\n",
      " 주말까지 강추위 계속‥오전, 호남·제주 3~8cm 눈[날씨]\n",
      "\n",
      "기사링크 = https://n.news.naver.com/mnews/article/214/0001403915\n",
      "\n",
      "케이카, 지난해 연간 영업익 15.4%↑…\"올해도 두 자릿수 성장\"\n",
      "\n",
      "기사링크 = https://n.news.naver.com/mnews/article/018/0005937501\n",
      "\n",
      "넓은 마당에 연못 갖춘 대형 건물…신라 태자의 '동궁' 찾았다\n",
      "\n",
      "기사링크 = https://n.news.naver.com/mnews/article/001/0015194593\n",
      "\n",
      "KGM, 액티언에 '파노라마 선루프' 적용 출시\n",
      "\n",
      "기사링크 = https://n.news.naver.com/mnews/article/001/0015194928\n",
      "\n",
      "퇴근길 교통사고로 뇌사…30세 방사선사, 6명에 새삶 주고 떠났다\n",
      "\n",
      "기사링크 = https://n.news.naver.com/mnews/article/025/0003419039\n",
      "\n",
      "일주일에 계란 몇 개?...'이만큼' 먹어라! 심장질환 위험 낮춘다\n",
      "\n",
      "기사링크 = https://n.news.naver.com/mnews/article/296/0000086475\n",
      "\n",
      "퇴근길 또 '눈' 소식…주말까지 '꽁꽁'\n",
      "\n",
      "기사링크 = https://n.news.naver.com/mnews/article/215/0001197565\n",
      "\n",
      "오후부터 중부지방 많은 눈…동장군 기세 주말 이후 꺾여\n",
      "\n",
      "기사링크 = https://n.news.naver.com/mnews/article/003/0013050704\n",
      "\n",
      "강추위 속 오후부터 전국 눈…호남·충청 최대 15cm↑\n",
      "\n",
      "기사링크 = https://n.news.naver.com/mnews/article/055/0001229272\n",
      "\n",
      "퇴근길 눈 비상…수도권 등 중부 최대 10㎝ 대설\n",
      "\n",
      "기사링크 = https://n.news.naver.com/mnews/article/422/0000711291\n",
      "\n",
      "경주 동궁과월지 추적 10년… 신라의 ‘진짜 동궁터’ 찾았다\n",
      "\n",
      "기사링크 = https://n.news.naver.com/mnews/article/021/0002688274\n",
      "\n",
      "특별한 밸런타인데이 선물, 세상에 단 하나뿐인 수제 초콜릿 바 [쿠킹]\n",
      "\n",
      "기사링크 = https://n.news.naver.com/mnews/article/025/0003419027\n",
      "\n",
      "웨이모와 손잡은 우버, 美 오스틴·애틀랜타에서도 무인 택시 탄다\n",
      "\n",
      "기사링크 = https://n.news.naver.com/mnews/article/014/0005304469\n",
      "\n",
      "하루 중 기분 좋은 시간, 아침에 최상…최악은 언제?\n",
      "\n",
      "기사링크 = https://n.news.naver.com/mnews/article/296/0000086474\n",
      "\n",
      "옥저海 건너와, 자기 땅에서 유배된 북미 선주민들[함영훈의 멋·맛·쉼]\n",
      "\n",
      "기사링크 = https://n.news.naver.com/mnews/article/016/0002424881\n",
      "\n",
      "“턱 전체에 ‘공동묘지’ 타투”… 묘비·무덤·거미줄까지, 왜 새겼냐 물으니?\n",
      "\n",
      "기사링크 = https://n.news.naver.com/mnews/article/346/0000087074\n",
      "\n",
      "구준엽, 아내 서희원 유해 품고 대만으로…\"작별식 안 한다\"\n",
      "\n",
      "기사링크 = https://n.news.naver.com/mnews/article/079/0003988755\n",
      "\n",
      "젊은 층은 인스타, 50·60대는 밴드 선호…전 연령 1위는 카톡\n",
      "\n",
      "기사링크 = https://n.news.naver.com/mnews/article/001/0015195201\n",
      "\n",
      "분노한 청년들 “이제 복수할 때가 왔다”\n",
      "\n",
      "기사링크 = https://n.news.naver.com/mnews/article/082/0001310530\n",
      "\n",
      "요즘 한국 추운 이유…알고보니 원인 지목된 ‘이것’\n",
      "\n",
      "기사링크 = https://n.news.naver.com/mnews/article/018/0005937626\n",
      "\n",
      "미완의 의료개혁…해법은 ‘공공의료’ 강화[북적book적]\n",
      "\n",
      "기사링크 = https://n.news.naver.com/mnews/article/016/0002424766\n",
      "\n",
      "“‘이 음식’ 먹고 살찜” 강민경, 맛있지만 지방·나트륨 다량… 뭐였을까?\n",
      "\n",
      "기사링크 = https://n.news.naver.com/mnews/article/346/0000087070\n",
      "\n",
      "HK이노엔, ‘케이캡’ 물질특허 1심 이어 2심도 승소 “국산 신약 가치 인정”\n",
      "\n",
      "기사링크 = https://n.news.naver.com/mnews/article/346/0000087069\n",
      "\n",
      "이지혜, 요즘 ‘이 음식’ 푹 빠져 볶음밥까지… 알고 보면 살찌는 지름길?\n",
      "\n",
      "기사링크 = https://n.news.naver.com/mnews/article/346/0000087068\n",
      "\n",
      "신애라, 아침에 '이것' 매일 마셔…혈당 걱정 없다는데, 뭐길래?\n",
      "\n",
      "기사링크 = https://n.news.naver.com/mnews/article/296/0000086469\n",
      "\n",
      "아이브 레이, 다이어트 할 때 ‘이 음식’ 절대 피한다… 뭘까?\n",
      "\n",
      "기사링크 = https://n.news.naver.com/mnews/article/346/0000087067\n",
      "\n",
      "“18kg 훅 찌웠다”… 장혜진 밤마다 먹은 ‘이 음식’, 실제 나트륨 폭탄?\n",
      "\n",
      "기사링크 = https://n.news.naver.com/mnews/article/346/0000087066\n",
      "\n",
      "신라 태자 살던 ‘동궁’, 월지 동편서 유력 건물 터 발견\n",
      "\n",
      "기사링크 = https://n.news.naver.com/mnews/article/028/0002729712\n",
      "\n",
      "“15살에 임신했지만, 이젠 의대생”… 미국 21세 女 ‘성공 스토리’ 공개, 사연 보니?\n",
      "\n",
      "기사링크 = https://n.news.naver.com/mnews/article/346/0000087065\n",
      "\n",
      "신라 태자의 '진짜 동궁' 찾았다…넓은 마당에 연못 갖춰\n",
      "\n",
      "기사링크 = https://n.news.naver.com/mnews/article/022/0004008465\n",
      "\n",
      "사실상 ‘0’대인 조류탐지 레이더...국내 모든 공항에 도입\n",
      "\n",
      "기사링크 = https://n.news.naver.com/mnews/article/025/0003418998\n",
      "\n",
      "제니도 사러 간다는데…\"명품백 헐값에 득템\" 엄지척 [안혜원의 명품의세계]\n",
      "\n",
      "기사링크 = https://n.news.naver.com/mnews/article/015/0005090310\n",
      "\n",
      "알리·테무 이어 딥시크까지…中 바람, 여행업계까지 불까\n",
      "\n",
      "기사링크 = https://n.news.naver.com/mnews/article/009/0005439211\n",
      "\n",
      "유럽에서 명품쇼핑하고 ‘신고사항 없음’ 표시 전 알아야 할 것 [여행 팩트체크]\n",
      "\n",
      "기사링크 = https://n.news.naver.com/mnews/article/009/0005439210\n",
      "\n",
      "“이제 복수할 때” 분노한 2030남성들의 기이한 반란 [북적book적]\n",
      "\n",
      "기사링크 = https://n.news.naver.com/mnews/article/016/0002424721\n",
      "\n",
      "\"아이폰4급 혁신 온다\"…中 샤오펑, L3 자율주행 최초 실현 예고\n",
      "\n",
      "기사링크 = https://n.news.naver.com/mnews/article/092/0002362120\n",
      "\n",
      "한파에 서울시 '수도계량기 동파 경계' 8일까지 연장(종합)\n",
      "\n",
      "기사링크 = https://n.news.naver.com/mnews/article/001/0015194800\n",
      "\n",
      "[930 날씨] 오늘 오후~내일 오전 전국 대부분 눈…강추위 계속\n",
      "\n",
      "기사링크 = https://n.news.naver.com/mnews/article/056/0011887486\n",
      "\n",
      "뜨거운 커피, 식도암 주의하세요\n",
      "\n",
      "기사링크 = https://n.news.naver.com/mnews/article/145/0000021700\n",
      "\n",
      "하루 5000kcal 먹으며 체중 감량한 英여성... 이 식단, 부작용은?\n",
      "\n",
      "기사링크 = https://n.news.naver.com/mnews/article/023/0003886344\n"
     ]
    }
   ],
   "source": [
    "print_news(103,section_dict[103])"
   ]
  },
  {
   "cell_type": "markdown",
   "id": "323196dc",
   "metadata": {},
   "source": [
    "### 2. Image 다운로드\n",
    "* referer 요청 헤더를 반드시 설정해야 한다."
   ]
  },
  {
   "cell_type": "code",
   "execution_count": null,
   "id": "c72d6cb1",
   "metadata": {},
   "outputs": [
    {
     "name": "stdout",
     "output_type": "stream",
     "text": [
      "200\n",
      "writing to 20220804112251_d97bd1e1b38f0cd022e4e3639d2926b3_IMAG01_1.jpg(299,319 bytes)\n",
      "200\n",
      "writing to 20220804112251_d97bd1e1b38f0cd022e4e3639d2926b3_IMAG01_2.jpg(163,333 bytes)\n",
      "200\n",
      "writing to 20220804112251_d97bd1e1b38f0cd022e4e3639d2926b3_IMAG01_3.jpg(182,530 bytes)\n"
     ]
    }
   ],
   "source": [
    "import requests\n",
    "import os\n",
    "\n",
    "req_header = {\n",
    "    'referer':''\n",
    "}\n",
    "\n",
    "img_urls = [\n",
    "    'https://image-comic.pstatic.net/webtoon/798173/5/20220804112251_d97bd1e1b38f0cd022e4e3639d2926b3_IMAG01_1.jpg',\n",
    "    'https://image-comic.pstatic.net/webtoon/798173/5/20220804112251_d97bd1e1b38f0cd022e4e3639d2926b3_IMAG01_2.jpg',\n",
    "    'https://image-comic.pstatic.net/webtoon/798173/5/20220804112251_d97bd1e1b38f0cd022e4e3639d2926b3_IMAG01_3.jpg'\n",
    "]\n",
    "\n",
    "for img_url in img_urls:\n",
    "    pass\n",
    "    # requests 의 get(url, headers) 함수 호출하기 \n",
    "        \n",
    "        # binary 응답 데이터 가져오기\n",
    "        \n",
    "        # url에서 파일명만 추출하기\n",
    "        \n",
    "        # binday data를 file에 write하기\n"
   ]
  },
  {
   "cell_type": "markdown",
   "id": "e8b00a04",
   "metadata": {},
   "source": [
    "* 현재 요청된 페이지의 image 모두 다운로드 해보기"
   ]
  },
  {
   "cell_type": "code",
   "execution_count": null,
   "id": "b30f7bf5",
   "metadata": {},
   "outputs": [],
   "source": []
  },
  {
   "cell_type": "markdown",
   "id": "2ac9f5f9",
   "metadata": {},
   "source": [
    "### 3. 파일 업로드 하기\n",
    "* http://httpbin.org/post 업로드 요청을 할 수 있는 url"
   ]
  },
  {
   "cell_type": "code",
   "execution_count": null,
   "id": "04da4790",
   "metadata": {},
   "outputs": [
    {
     "name": "stdout",
     "output_type": "stream",
     "text": [
      "200\n"
     ]
    }
   ],
   "source": [
    "import requests\n",
    "\n",
    "upload_files = {\n",
    "    \n",
    "}\n",
    "#print(upload_files)\n",
    "\n",
    "url = 'http://httpbin.org/post'\n",
    "# file 업로드 하려면 requests의 post 함수에 files 속성을 사용합니다.\n",
    "\n"
   ]
  },
  {
   "cell_type": "markdown",
   "id": "7ad65f12",
   "metadata": {},
   "source": [
    "### 4. 캡챠(이미지) API 호출하기\n",
    "* urllib 사용\n",
    "* 1. 캡차 키 발급 요청\n",
    "  2. 캡차 이미지 요청\n",
    "  3. 사용자 입력값 검증 요청"
   ]
  },
  {
   "cell_type": "code",
   "execution_count": 2,
   "id": "bc4ae360-e772-4873-8642-d3494edd34e1",
   "metadata": {},
   "outputs": [],
   "source": [
    "# 캡차 키 발급 요청\n"
   ]
  },
  {
   "cell_type": "code",
   "execution_count": 1,
   "id": "7b95b6a0-c218-4792-82a6-da4d80872071",
   "metadata": {},
   "outputs": [],
   "source": [
    "# 캡차 이미지 요청\n"
   ]
  },
  {
   "cell_type": "code",
   "execution_count": 3,
   "id": "a79076af-2cd0-4de2-8301-316b9130c55e",
   "metadata": {},
   "outputs": [],
   "source": [
    "#  사용자 입력값 검증 요청\n",
    "\n"
   ]
  },
  {
   "cell_type": "markdown",
   "id": "b7d984a6",
   "metadata": {},
   "source": [
    "* requests를 사용하는 코드로 변경하기\n",
    "* [requests docs](https://requests.readthedocs.io/en/latest/user/quickstart/)"
   ]
  },
  {
   "cell_type": "code",
   "execution_count": null,
   "id": "727b427b",
   "metadata": {
    "scrolled": true
   },
   "outputs": [
    {
     "name": "stdout",
     "output_type": "stream",
     "text": [
      "Error Code: 403\n"
     ]
    }
   ],
   "source": [
    "# 사용자 입력값 검증 요청\n",
    "\n"
   ]
  },
  {
   "cell_type": "markdown",
   "id": "d5e1179a",
   "metadata": {},
   "source": [
    "### 5. 블로그 검색하기"
   ]
  },
  {
   "cell_type": "code",
   "execution_count": null,
   "id": "877d0c7f",
   "metadata": {},
   "outputs": [],
   "source": [
    "import requests\n",
    "import pprint\n",
    "\n",
    "headers = {\n",
    "    'X-Naver-Client-Id': '',\n",
    "    'X-Naver-Client-Secret': '',\n",
    "}\n",
    "\n",
    "payload = {\n",
    "    'query': '파이썬',\n",
    "    'display': 100,\n",
    "    'sort': 'sim'\n",
    "}\n",
    "\n",
    "url = 'https://openapi.naver.com/v1/search/blog.json'\n",
    "\n",
    "\n",
    "# requests get(url, params, headers) 요청 \n",
    "\n",
    "# json() 함수로 응답 결과 가져오오기\n",
    "# 'title' , 'bloggername' , 'description' , 'bloggerlink' , 'link'\n",
    "\n",
    "# 'data/nhnblog.txt' 파일 생성하기\n"
   ]
  }
 ],
 "metadata": {
  "kernelspec": {
   "display_name": "base",
   "language": "python",
   "name": "python3"
  },
  "language_info": {
   "codemirror_mode": {
    "name": "ipython",
    "version": 3
   },
   "file_extension": ".py",
   "mimetype": "text/x-python",
   "name": "python",
   "nbconvert_exporter": "python",
   "pygments_lexer": "ipython3",
   "version": "3.12.7"
  }
 },
 "nbformat": 4,
 "nbformat_minor": 5
}
